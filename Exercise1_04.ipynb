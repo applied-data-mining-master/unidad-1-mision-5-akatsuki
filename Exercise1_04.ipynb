{
 "cells": [
  {
   "cell_type": "markdown",
   "metadata": {},
   "source": [
    "# Exercise 1.04: Tic-Tac-Toe Static Evaluation with a Heuristic Function\n",
    "In this exercise, you will be performing a static evaluation on the tic-tac-toe game using a heuristic function."
   ]
  },
  {
   "cell_type": "markdown",
   "metadata": {},
   "source": [
    "1.- Reuse the code from Steps 1–5 of Activity 1.01"
   ]
  },
  {
   "cell_type": "code",
   "execution_count": 1,
   "metadata": {},
   "outputs": [],
   "source": [
    "combo_indices = [[0, 1, 2],[3, 4, 5],[6, 7, 8],[0, 3, 6],[1, 4, 7],[2, 5, 8],[0, 4, 8],[2, 4, 6]]\n",
    "EMPTY_SIGN = '.'\n",
    "AI_SIGN = 'X'\n",
    "OPPONENT_SIGN = 'O'\n",
    "\n",
    "\n",
    "def print_board(board):\n",
    "    print(\" \")\n",
    "    print(' '+(board[0])+('|')+(board[1])+('|')+(board[2]))\n",
    "    print (\"------\")\n",
    "    print(' '+(board[3])+('|')+(board[4])+('|')+(board[5]))\n",
    "    print (\"------\")\n",
    "    print(' '+(board[6])+('|')+(board[7])+('|')+(board[8]))\n",
    "    print(\" \")\n",
    "    \n",
    "    \n",
    "def opponent_move(board, row, column):\n",
    "    index = 3 * (row - 1) + (column - 1)\n",
    "    if board[index] == EMPTY_SIGN:\n",
    "        return board[:index] + OPPONENT_SIGN + board[index+1:]\n",
    "    return board\n",
    "\n",
    "\n",
    "def all_moves_from_board(board, sign):\n",
    "    move_list = []\n",
    "    for i, v in enumerate(board):\n",
    "        if v == EMPTY_SIGN:\n",
    "            move_list.append(board[:i] + sign + board[i+1:])\n",
    "    return move_list\n",
    "\n",
    "\n",
    "def ai_move(board):\n",
    "    return choice(all_moves_from_board(board, AI_SIGN))\n",
    "\n",
    "\n",
    "def game_won_by(board):\n",
    "    for index in combo_indices:\n",
    "        if board[index[0]] == board[index[1]] == board[index[2]] != EMPTY_SIGN:\n",
    "            return board[index[0]]\n",
    "    return EMPTY_SIGN\n",
    "\n",
    "\n",
    "def game_loop():\n",
    "    board = EMPTY_SIGN * 9\n",
    "    empty_cell_count = 9\n",
    "    is_game_ended = False\n",
    "    while empty_cell_count > 0 and not is_game_ended:\n",
    "        if empty_cell_count % 2 == 1:\n",
    "            board = ai_move(board)\n",
    "        else:\n",
    "            row = int(input('Ingresar fila: '))\n",
    "            col = int(input('Ingresar columna: '))\n",
    "            board = opponent_move(board, row, col)\n",
    "        print_board(board)\n",
    "        is_game_ended = game_won_by(board) != EMPTY_SIGN\n",
    "        empty_cell_count = sum(1 for cell in board if cell == EMPTY_SIGN)\n",
    "    print('juego terminado.')\n",
    "\n",
    "    \n",
    "def all_moves_from_board_list(board_list, sign):\n",
    "    move_list = []\n",
    "    for board in board_list:\n",
    "        move_list.extend(all_moves_from_board(board, sign))\n",
    "    return move_list\n",
    "\n",
    "\n",
    "def filter_wins(move_list, ai_wins, opponent_wins):\n",
    "    for board in move_list:\n",
    "        won_by = game_won_by(board)\n",
    "        if won_by == AI_SIGN:\n",
    "            ai_wins.append(board)\n",
    "            move_list.remove(board)\n",
    "        elif won_by == OPPONENT_SIGN:\n",
    "            opponent_wins.append(board)\n",
    "            move_list.remove(board)\n",
    "            \n",
    "def count_possibilities():\n",
    "    board = EMPTY_SIGN * 9\n",
    "    move_list = [board]\n",
    "    ai_wins = []\n",
    "    opponent_wins = []\n",
    "    for i in range(9):\n",
    "        print('Paso ' + str(i) + '. Movimiento: ' + str(len(move_list)))\n",
    "        sign = AI_SIGN if i % 2 == 0 else OPPONENT_SIGN\n",
    "        move_list = all_moves_from_board_list(move_list, sign)\n",
    "        filter_wins(move_list, ai_wins, opponent_wins)\n",
    "    print('1° ganador: ' + str(len(ai_wins)))\n",
    "    print('2° ganador: ' + str(len(opponent_wins)))\n",
    "    print('Empate', str(len(move_list)))\n",
    "    print('Total', str(len(ai_wins) + len(opponent_wins) + len(move_list)))\n",
    "    return len(ai_wins), len(opponent_wins), len(move_list), len(ai_wins) + len(opponent_wins) + len(move_list)\n",
    "    \n",
    "\n"
   ]
  },
  {
   "cell_type": "markdown",
   "metadata": {},
   "source": [
    "2.- Create a function that takes the board as input and returns $0$ if the cell is empty, and $-1$ if it's not empty"
   ]
  },
  {
   "cell_type": "code",
   "execution_count": 2,
   "metadata": {},
   "outputs": [],
   "source": [
    "def init_utility_matrix(board):\n",
    "    return [0 if cell == EMPTY_SIGN else -1 for cell in board]"
   ]
  },
  {
   "cell_type": "markdown",
   "metadata": {},
   "source": [
    "3.- Create a function that takes the utility vector of possible moves, takes three indices inside the utility vector representing a triple, and returns a function.\n",
    "\n",
    "  > **Hints**  \n",
    "  > the returned function will expect a `points` parameter and the `utilities` vector as input and will add points to each cell in $(i, j, k)$, as long as the original value of that cell is non-negative $(>=0)$. In other words, we increased the utility of empty cells only."
   ]
  },
  {
   "cell_type": "code",
   "execution_count": 3,
   "metadata": {},
   "outputs": [],
   "source": [
    "def generate_add_score(utilities, i, j, k):\n",
    "    def add_score(points):\n",
    "        if utilities[i] >= 0:\n",
    "            utilities[i] += points\n",
    "        if utilities[j] >= 0:\n",
    "            utilities[j] += points\n",
    "        if utilities[k] >= 0:\n",
    "            utilities[k] += points\n",
    "    return add_score\n"
   ]
  },
  {
   "cell_type": "markdown",
   "metadata": {},
   "source": [
    "4.- Now, create the utility matrix belonging to any board constellation where you will add the `generate_add_score` function defined previously to update the score. You will also implement the rules that we discussed prior to this activity. These rules are as follows:\n",
    "  * Two AI signs in a row, column, or diagonal, and the third cell is empty: +1000 for the empty cell.\n",
    "  * The opponent has two signs in a row, column, or diagonal, and the third cell is empty: +100 for the empty cell.\n",
    "  * One AI sign in a row, column, or diagonal, and the other two cells are empty: +10 for the empty cells.\n",
    "  * No AI or opponent signs in a row, column, or diagonal: +1 for the empty cells."
   ]
  },
  {
   "cell_type": "code",
   "execution_count": 4,
   "metadata": {},
   "outputs": [],
   "source": [
    "def utility_matrix(board):\n",
    "    utilities = init_utility_matrix(board)\n",
    "    for [i, j, k] in combo_indices:\n",
    "        add_score = generate_add_score(utilities, i, j, k)\n",
    "        triple = [board[i], board[j], board[k]]\n",
    "        if triple.count(EMPTY_SIGN) == 1:\n",
    "            if triple.count(AI_SIGN) == 2:\n",
    "                add_score(1000)\n",
    "            elif triple.count(OPPONENT_SIGN) == 2:\n",
    "                add_score(100)\n",
    "        elif triple.count(EMPTY_SIGN) == 2 and triple.count(AI_SIGN) == 1:\n",
    "            add_score(10)\n",
    "        elif triple.count(EMPTY_SIGN) == 3:\n",
    "            add_score(1)\n",
    "    return utilities"
   ]
  },
  {
   "cell_type": "markdown",
   "metadata": {},
   "source": [
    "5.- Create a function that selects the move with the highest utility value. If multiple moves have the same utility, the function returns both moves"
   ]
  },
  {
   "cell_type": "code",
   "execution_count": 5,
   "metadata": {},
   "outputs": [],
   "source": [
    "def best_moves_from_board(board, sign):\n",
    "    move_list = []\n",
    "    utilities = utility_matrix(board)\n",
    "    max_utility = max(utilities)\n",
    "    for i, v in enumerate(board):\n",
    "        if utilities[i] == max_utility:\n",
    "            move_list.append(board[:i] + sign + board[i+1:])\n",
    "    return move_list\n",
    "\n",
    "\n",
    "def all_moves_from_board_list(board_list, sign):\n",
    "    move_list = []\n",
    "    get_moves = best_moves_from_board if sign == AI_SIGN else all_moves_from_board\n",
    "    for board in board_list:\n",
    "        move_list.extend(get_moves(board, sign))\n",
    "    return move_list"
   ]
  },
  {
   "cell_type": "markdown",
   "metadata": {},
   "source": [
    "6.- Run the application.\n",
    "\n",
    "Output:\n",
    "\n",
    "```\n",
    "step 0. Moves: 1\n",
    "step 1. Moves: 1\n",
    "step 2. Moves: 8\n",
    "step 3. Moves: 24\n",
    "step 4. Moves: 144\n",
    "step 5. Moves: 83\n",
    "step 6. Moves: 214\n",
    "step 7. Moves: 148\n",
    "step 8. Moves: 172\n",
    "First player wins: 504\n",
    "Second player wins: 12\n",
    "Draw 91\n",
    "Total 607\n",
    "```"
   ]
  },
  {
   "cell_type": "code",
   "execution_count": 7,
   "metadata": {},
   "outputs": [
    {
     "name": "stdout",
     "output_type": "stream",
     "text": [
      "Paso 0. Movimiento: 1\n",
      "Paso 1. Movimiento: 1\n",
      "Paso 2. Movimiento: 8\n",
      "Paso 3. Movimiento: 24\n",
      "Paso 4. Movimiento: 144\n",
      "Paso 5. Movimiento: 83\n",
      "Paso 6. Movimiento: 214\n",
      "Paso 7. Movimiento: 148\n",
      "Paso 8. Movimiento: 172\n",
      "1° ganador: 504\n",
      "2° ganador: 12\n",
      "Empate 91\n",
      "Total 607\n"
     ]
    }
   ],
   "source": [
    "first_player, second_player, draw, total = count_possibilities()"
   ]
  },
  {
   "cell_type": "markdown",
   "metadata": {},
   "source": [
    "By completing this exercise, we have observed that the AI is underperforming compared to our previous activity, Activity 1.03, Fixing the First and Second Moves of the AI to Make It Invincible. In this situation, hardcoding the first two moves was better than setting up the heuristic, but this is because we haven't set up the heuristic properly."
   ]
  },
  {
   "cell_type": "code",
   "execution_count": null,
   "metadata": {},
   "outputs": [],
   "source": []
  }
 ],
 "metadata": {
  "kernelspec": {
   "display_name": "Python 3",
   "language": "python",
   "name": "python3"
  },
  "language_info": {
   "codemirror_mode": {
    "name": "ipython",
    "version": 3
   },
   "file_extension": ".py",
   "mimetype": "text/x-python",
   "name": "python",
   "nbconvert_exporter": "python",
   "pygments_lexer": "ipython3",
   "version": "3.9.1"
  }
 },
 "nbformat": 4,
 "nbformat_minor": 4
}
